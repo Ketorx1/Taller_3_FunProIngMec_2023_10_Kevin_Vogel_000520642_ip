{
  "nbformat": 4,
  "nbformat_minor": 0,
  "metadata": {
    "colab": {
      "provenance": [],
      "authorship_tag": "ABX9TyPSRKL7D9HocBBiF68ivgcm",
      "include_colab_link": true
    },
    "kernelspec": {
      "name": "python3",
      "display_name": "Python 3"
    },
    "language_info": {
      "name": "python"
    }
  },
  "cells": [
    {
      "cell_type": "markdown",
      "metadata": {
        "id": "view-in-github",
        "colab_type": "text"
      },
      "source": [
        "<a href=\"https://colab.research.google.com/github/Ketorx1/Taller_3_FunProIngMec_2023_10_Kevin_Vogel_000520642_ip/blob/main/Soluci%C3%B3n_Taller_3.ipynb\" target=\"_parent\"><img src=\"https://colab.research.google.com/assets/colab-badge.svg\" alt=\"Open In Colab\"/></a>"
      ]
    },
    {
      "cell_type": "markdown",
      "source": [
        "#Taller 3 condicionales\n",
        "##Fundamentos de Programacion\n",
        "### Kevin Vogel Durango ####\n",
        "####000520642####\n",
        "####kevin.vogel@upb.edu.co####\n"
      ],
      "metadata": {
        "id": "rkUQ_rYd_n_q"
      }
    },
    {
      "cell_type": "code",
      "execution_count": 11,
      "metadata": {
        "colab": {
          "base_uri": "https://localhost:8080/"
        },
        "id": "1oA7eewB0P58",
        "outputId": "846c0a4f-367d-40b7-f418-6b7c272cb4c2"
      },
      "outputs": [
        {
          "output_type": "stream",
          "name": "stdout",
          "text": [
            "Ingrese su estrato socioeconómico: 1\n",
            "¿Vive en Montería? (S/N): s\n",
            "Ingrese su edad: 16\n",
            "Ingrese su promedio académico ponderado proyectado: 4.5\n",
            "El gasto total mensual es de $804250.00\n"
          ]
        }
      ],
      "source": [
        "# Definir variables de entrada\n",
        "estrato = int(input(\"Ingrese su estrato socioeconómico: \"))\n",
        "lugar_residencia = input(\"¿Vive en Montería? (S/N): \")\n",
        "edad = int(input(\"Ingrese su edad: \"))\n",
        "promedio = float(input(\"Ingrese su promedio académico ponderado proyectado: \"))\n",
        "apoyo_transporte = 0\n",
        "apoyo_alimentacion = 0\n",
        "\n",
        "# Calcular apoyo de transporte\n",
        "if estrato == 1:\n",
        "  if edad < 18:\n",
        "    apoyo_transporte = 65000\n",
        "  else:\n",
        "    apoyo_transporte = 50000\n",
        "elif estrato == 2:\n",
        "  if edad < 18:\n",
        "    apoyo_transporte = 45000\n",
        "  else:\n",
        "    apoyo_transporte = 30000\n",
        "elif estrato == 3:\n",
        "  if edad < 18:\n",
        "    apoyo_transporte = 35000\n",
        "  else:\n",
        "    apoyo_transporte = 20000\n",
        "elif estrato > 3:\n",
        "  print(\"No recibe apoyo de transporte\")\n",
        "\n",
        "\n",
        "# Calcular apoyo de alimentación\n",
        "costo_alimentacion = 20000 * 20 # 20 días hábiles por mes\n",
        "if estrato == 1:\n",
        "  if edad < 18:\n",
        "    apoyo_alimentacion = costo_alimentacion * 0.9\n",
        "  else:\n",
        "    apoyo_alimentacion = costo_alimentacion * 0.7\n",
        "elif estrato == 2:\n",
        "  if edad < 18:\n",
        "    apoyo_alimentacion = costo_alimentacion * 0.7\n",
        "  else:\n",
        "    apoyo_alimentacion = costo_alimentacion * 0.5\n",
        "elif estrato == 3:\n",
        "  if edad < 18:\n",
        "    apoyo_alimentacion = costo_alimentacion * 0.5\n",
        "  else:\n",
        "    apoyo_alimentacion = costo_alimentacion * 0.3\n",
        "elif estrato > 3:\n",
        "  print(\"No recibe apoyo de alimentacion\")\n",
        "# Calcular costo de transporte\n",
        "if lugar_residencia.upper() == \"S\":\n",
        "  costo_transporte = 2800 * 2 * 20 # 20 días hábiles por mes\n",
        "else:\n",
        "  costo_transporte = 3500 * 2 * 20 # 20 días hábiles por mes\n",
        "\n",
        "# Calcular costo de matrícula\n",
        "if promedio > 4.8:\n",
        "  costo_matricula = 0\n",
        "elif promedio > 4.5:\n",
        "  costo_matricula = 5000000 * 0.3\n",
        "elif promedio > 4.0:\n",
        "  costo_matricula = 5000000 * 0.6\n",
        "else:\n",
        "  costo_matricula = 5000000\n",
        "\n",
        "# Calcular gasto total mensual\n",
        "gasto_total = costo_transporte + apoyo_transporte + costo_alimentacion - apoyo_alimentacion + costo_matricula\n",
        "gasto_mensual = gasto_total / 4\n",
        "\n",
        "# Mostrar resultado\n",
        "print(f\"El gasto total mensual es de ${gasto_mensual:.2f}\")"
      ]
    }
  ]
}